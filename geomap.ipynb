{
 "cells": [
  {
   "cell_type": "code",
   "execution_count": 1,
   "metadata": {
    "collapsed": false
   },
   "outputs": [
    {
     "name": "stdout",
     "output_type": "stream",
     "text": [
      "              ip           mask country                  state         city\n",
      "0        0.0.0.0  0.255.255.255      US             California  Los Angeles\n",
      "1        1.0.0.0      1.0.0.255      AU             Queensland     Brisbane\n",
      "2        1.0.1.0      1.0.3.255      CN                 Fujian       Fuzhou\n",
      "3        1.0.4.0      1.0.7.255      AU               Victoria     Richmond\n",
      "4        1.0.8.0     1.0.15.255      CN              Guangdong    Guangzhou\n",
      "5       1.0.16.0     1.0.31.255      JP                  Tokyo      Chiyoda\n",
      "6       1.0.32.0     1.0.63.255      CN              Guangdong    Guangzhou\n",
      "7       1.0.64.0    1.0.127.255      JP              Hiroshima    Hiroshima\n",
      "8      1.0.128.0    1.0.255.255      TH  จังหวัด กรุงเทพมหานคร      Bangkok\n",
      "9        1.1.0.0      1.1.0.255      CN                 Fujian       Fuzhou\n",
      "10       1.1.1.0      1.1.1.255      AU             Queensland     Brisbane\n",
      "11       1.1.2.0      1.1.7.255      CN                 Fujian       Fuzhou\n",
      "12       1.1.8.0      1.1.8.255      CN           Shanghai Shi   Huangpu Qu\n",
      "13       1.1.9.0     1.1.63.255      CN              Guangdong    Guangzhou\n",
      "14      1.1.64.0    1.1.112.255      JP                  Tokyo       Minato\n",
      "15     1.1.113.0    1.1.113.255      JP                  Tokyo      Chiyoda\n",
      "16     1.1.114.0    1.1.125.255      JP                  Tokyo       Minato\n",
      "17     1.1.126.0    1.1.127.255      JP                  Tokyo      Chiyoda\n",
      "18     1.1.128.0    1.1.255.255      TH  จังหวัด กรุงเทพมหานคร      Bangkok\n",
      "19       1.2.0.0      1.2.1.255      CN                 Fujian       Fuzhou\n",
      "20       1.2.2.0      1.2.2.255      CN                Beijing      Beijing\n",
      "21       1.2.3.0      1.2.3.255      AU             Queensland     Brisbane\n",
      "22       1.2.4.0      1.2.4.255      CN                Beijing      Beijing\n",
      "23       1.2.5.0      1.2.7.255      CN                 Fujian       Fuzhou\n",
      "24       1.2.8.0      1.2.8.255      CN                Beijing      Beijing\n",
      "25       1.2.9.0    1.2.127.255      CN              Guangdong    Guangzhou\n",
      "26     1.2.128.0    1.2.255.255      TH  จังหวัด กรุงเทพมหานคร      Bangkok\n",
      "27       1.3.0.0    1.3.255.255      CN              Guangdong    Guangzhou\n",
      "28       1.4.0.0      1.4.0.255      AU             Queensland     Brisbane\n",
      "29       1.4.1.0      1.4.3.255      CN                 Fujian       Fuzhou\n",
      "..           ...            ...     ...                    ...          ...\n",
      "970   1.136.40.0   1.136.41.255      AU               Victoria    Melbourne\n",
      "971   1.136.42.0   1.136.54.255      AU               Victoria     Richmond\n",
      "972   1.136.55.0   1.136.55.255      AU               Victoria    Melbourne\n",
      "973   1.136.56.0   1.136.56.255      AU               Victoria     Richmond\n",
      "974   1.136.57.0   1.136.57.255      AU               Victoria    Melbourne\n",
      "975   1.136.58.0   1.136.62.255      AU               Victoria     Richmond\n",
      "976   1.136.63.0   1.136.63.255      AU               Victoria    Melbourne\n",
      "977   1.136.64.0   1.136.65.255      AU               Victoria     Richmond\n",
      "978   1.136.66.0   1.136.66.255      AU               Victoria    Melbourne\n",
      "979   1.136.67.0   1.136.67.255      AU               Victoria     Richmond\n",
      "980   1.136.68.0   1.136.68.255      AU               Victoria    Melbourne\n",
      "981   1.136.69.0   1.136.72.255      AU               Victoria     Richmond\n",
      "982   1.136.73.0   1.136.73.255      AU               Victoria    Melbourne\n",
      "983   1.136.74.0   1.136.75.255      AU               Victoria     Richmond\n",
      "984   1.136.76.0   1.136.76.255      AU               Victoria    Melbourne\n",
      "985   1.136.77.0   1.136.85.255      AU               Victoria     Richmond\n",
      "986   1.136.86.0   1.136.86.255      AU               Victoria    Melbourne\n",
      "987   1.136.87.0   1.136.89.255      AU               Victoria     Richmond\n",
      "988   1.136.90.0   1.136.90.255      AU               Victoria    Melbourne\n",
      "989   1.136.91.0   1.136.97.255      AU               Victoria     Richmond\n",
      "990   1.136.98.0  1.136.107.255      AU               Victoria    Melbourne\n",
      "991  1.136.108.0  1.136.108.255      AU        New South Wales       Sydney\n",
      "992  1.136.109.0  1.136.118.255      AU               Victoria    Melbourne\n",
      "993  1.136.119.0  1.136.119.255      AU        New South Wales       Sydney\n",
      "994  1.136.120.0  1.136.123.255      AU               Victoria    Melbourne\n",
      "995  1.136.124.0  1.136.124.255      AU        New South Wales       Sydney\n",
      "996  1.136.125.0  1.136.131.255      AU               Victoria    Melbourne\n",
      "997  1.136.132.0  1.136.132.255      AU        New South Wales       Sydney\n",
      "998  1.136.133.0  1.136.135.255      AU               Victoria    Melbourne\n",
      "999  1.136.136.0  1.136.136.255      AU        New South Wales       Sydney\n",
      "\n",
      "[1000 rows x 5 columns]\n"
     ]
    },
    {
     "ename": "NameError",
     "evalue": "name 'dfgp' is not defined",
     "output_type": "error",
     "traceback": [
      "\u001b[1;31m\u001b[0m",
      "\u001b[1;31mNameError\u001b[0mTraceback (most recent call last)",
      "\u001b[1;32m<ipython-input-1-36809fa6394a>\u001b[0m in \u001b[0;36m<module>\u001b[1;34m()\u001b[0m\n\u001b[0;32m     15\u001b[0m \u001b[0mdf\u001b[0m \u001b[1;33m=\u001b[0m \u001b[0mpd\u001b[0m\u001b[1;33m.\u001b[0m\u001b[0mread_csv\u001b[0m\u001b[1;33m(\u001b[0m\u001b[1;34m'test.csv'\u001b[0m\u001b[1;33m,\u001b[0m\u001b[0mheader\u001b[0m\u001b[1;33m=\u001b[0m\u001b[0mNone\u001b[0m\u001b[1;33m,\u001b[0m\u001b[0mnames\u001b[0m\u001b[1;33m=\u001b[0m\u001b[1;33m[\u001b[0m\u001b[1;34m'ip'\u001b[0m\u001b[1;33m,\u001b[0m\u001b[1;34m'mask'\u001b[0m\u001b[1;33m,\u001b[0m\u001b[1;34m'country'\u001b[0m\u001b[1;33m,\u001b[0m\u001b[1;34m'state'\u001b[0m\u001b[1;33m,\u001b[0m\u001b[1;34m'city'\u001b[0m\u001b[1;33m]\u001b[0m\u001b[1;33m)\u001b[0m\u001b[1;33m\u001b[0m\u001b[0m\n\u001b[0;32m     16\u001b[0m \u001b[1;32mprint\u001b[0m \u001b[0mdf\u001b[0m\u001b[1;33m\u001b[0m\u001b[0m\n\u001b[1;32m---> 17\u001b[1;33m \u001b[1;32mfor\u001b[0m \u001b[0mi\u001b[0m \u001b[1;32min\u001b[0m \u001b[0mrange\u001b[0m\u001b[1;33m(\u001b[0m\u001b[0mlen\u001b[0m\u001b[1;33m(\u001b[0m\u001b[0mdfgp\u001b[0m\u001b[1;33m)\u001b[0m\u001b[1;33m)\u001b[0m\u001b[1;33m:\u001b[0m\u001b[1;33m\u001b[0m\u001b[0m\n\u001b[0m\u001b[0;32m     18\u001b[0m     \u001b[0mloc\u001b[0m \u001b[1;33m=\u001b[0m \u001b[0mfindLoc\u001b[0m\u001b[1;33m(\u001b[0m\u001b[0mdfgp\u001b[0m\u001b[1;33m.\u001b[0m\u001b[0miloc\u001b[0m\u001b[1;33m[\u001b[0m\u001b[0mi\u001b[0m\u001b[1;33m]\u001b[0m\u001b[1;33m[\u001b[0m\u001b[1;34m'country'\u001b[0m\u001b[1;33m]\u001b[0m\u001b[1;33m,\u001b[0m\u001b[0mdfgp\u001b[0m\u001b[1;33m.\u001b[0m\u001b[0miloc\u001b[0m\u001b[1;33m[\u001b[0m\u001b[0mi\u001b[0m\u001b[1;33m]\u001b[0m\u001b[1;33m[\u001b[0m\u001b[1;34m'state'\u001b[0m\u001b[1;33m]\u001b[0m\u001b[1;33m,\u001b[0m\u001b[0mdfgp\u001b[0m\u001b[1;33m.\u001b[0m\u001b[0miloc\u001b[0m\u001b[1;33m[\u001b[0m\u001b[0mi\u001b[0m\u001b[1;33m]\u001b[0m\u001b[1;33m[\u001b[0m\u001b[1;34m'city'\u001b[0m\u001b[1;33m]\u001b[0m\u001b[1;33m)\u001b[0m\u001b[1;33m\u001b[0m\u001b[0m\n\u001b[0;32m     19\u001b[0m     \u001b[0mtime\u001b[0m\u001b[1;33m.\u001b[0m\u001b[0msleep\u001b[0m\u001b[1;33m(\u001b[0m\u001b[1;36m1\u001b[0m\u001b[1;33m)\u001b[0m\u001b[1;33m\u001b[0m\u001b[0m\n",
      "\u001b[1;31mNameError\u001b[0m: name 'dfgp' is not defined"
     ]
    }
   ],
   "source": [
    "import pandas as pd\n",
    "from geopy.geocoders import Nominatim\n",
    "import time\n",
    "\n",
    "def findLoc(country,state,city):\n",
    "    query=','.join([country[0],state[0],city[0]])\n",
    "    geolocator = Nominatim()\n",
    "    location = geolocator.geocode(query,timeout=None)\n",
    "    try:\n",
    "        return (location.latitude, location.longitude)\n",
    "    except:\n",
    "        return ('None','None')\n",
    "\n",
    "fout = open('iploc.csv')\n",
    "df = pd.read_csv('test.csv',header=None,names=['ip','mask','country','state','city'])\n",
    "print df\n",
    "for i in range(len(dfgp)):\n",
    "    loc = findLoc(dfgp.iloc[i]['country'],dfgp.iloc[i]['state'],dfgp.iloc[i]['city'])\n",
    "    time.sleep(1)\n",
    "    dfgp.iloc[i]['latitude'] = loc[0]\n",
    "    dfgp.iloc[i]['longitude'] = loc[1]\n",
    "    fout.write(\"%s,%s,%s,%s,%s\\n\" % (dfgp.iloc[i]['country'][0],dfgp.iloc[i]['state'][0],dfgp.iloc[i]['city'][0],dfgp.iloc[i]['latitude'],dfgp.iloc[i]['longitude']))\n",
    "fout.close()"
   ]
  },
  {
   "cell_type": "code",
   "execution_count": null,
   "metadata": {
    "collapsed": true
   },
   "outputs": [],
   "source": [
    "import pandas as pd\n",
    "from geopy.geocoders import Nominatim\n",
    "import time\n",
    "import csv\n",
    "\n",
    "def findLoc(country,state,city):\n",
    "    query=','.join([country,state,city])\n",
    "    geolocator = Nominatim()\n",
    "    location = geolocator.geocode(query,timeout=None)\n",
    "    try:\n",
    "        return (location.latitude, location.longitude)\n",
    "    except:\n",
    "        return ('None','None')\n",
    "\n",
    "def do_geocode(country,state,city):\n",
    "    try:\n",
    "        return findLoc(country,state,city)\n",
    "    except:\n",
    "        time.sleep(5)\n",
    "        return do_geocode(country,state,city)\n",
    "\n",
    "\n",
    "fout = open('iploc.csv','w')\n",
    "\n",
    "with open('dbip-city-2016-08.csv') as fin:\n",
    "    spamreader = csv.reader(fin, delimiter=',', quotechar='\"')\n",
    "    for row in spamreader:\n",
    "        loc = do_geocode(row[2],row[3],row[4])\n",
    "    time.sleep(2)\n",
    "    latitude = loc[0]\n",
    "    longitude = loc[1]\n",
    "    try:\n",
    "        fout.write(\"%s,%s,%s,%s,%s\\n\" % (row[2],row[3],row[4],latitude,longitude))\n",
    "    except:\n",
    "        fout.write(\"%s,%s,%s,%s,%s\\n\" % (row[2],row[3],row[4],'none','none'))"
   ]
  },
  {
   "cell_type": "code",
   "execution_count": null,
   "metadata": {
    "collapsed": true
   },
   "outputs": [],
   "source": []
  }
 ],
 "metadata": {
  "kernelspec": {
   "display_name": "Python 2",
   "language": "python",
   "name": "python2"
  },
  "language_info": {
   "codemirror_mode": {
    "name": "ipython",
    "version": 2
   },
   "file_extension": ".py",
   "mimetype": "text/x-python",
   "name": "python",
   "nbconvert_exporter": "python",
   "pygments_lexer": "ipython2",
   "version": "2.7.3"
  }
 },
 "nbformat": 4,
 "nbformat_minor": 0
}
